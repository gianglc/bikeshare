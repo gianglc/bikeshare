{
 "cells": [
  {
   "cell_type": "code",
   "execution_count": 1,
   "metadata": {},
   "outputs": [],
   "source": [
    "import pandas as pd\n",
    "import numpy as np\n",
    "import folium\n",
    "from folium import plugins\n",
    "from folium.plugins import HeatMap\n",
    "from folium.plugins import MarkerCluster"
   ]
  },
  {
   "cell_type": "code",
   "execution_count": 2,
   "metadata": {},
   "outputs": [],
   "source": [
    "nyc_data = pd.read_csv(\"/data/bikeshare/data/unified/nyc.csv\")\n",
    "boston_data = pd.read_csv(\"/data/bikeshare/data/unified/boston.csv\")\n",
    "main_data = pd.read_csv(\"/data/bikeshare/data/unified/merged.csv\")"
   ]
  },
  {
   "cell_type": "code",
   "execution_count": 3,
   "metadata": {},
   "outputs": [],
   "source": [
    "nyc = {'name':'New York City, NY', 'data':nyc_data}\n",
    "boston = {'name':'Boston, MA', 'data':boston_data}\n",
    "main = {'name':'All Data', 'data':main_data}"
   ]
  },
  {
   "cell_type": "code",
   "execution_count": 15,
   "metadata": {},
   "outputs": [
    {
     "data": {
      "text/html": [
       "<div>\n",
       "<style scoped>\n",
       "    .dataframe tbody tr th:only-of-type {\n",
       "        vertical-align: middle;\n",
       "    }\n",
       "\n",
       "    .dataframe tbody tr th {\n",
       "        vertical-align: top;\n",
       "    }\n",
       "\n",
       "    .dataframe thead th {\n",
       "        text-align: right;\n",
       "    }\n",
       "</style>\n",
       "<table border=\"1\" class=\"dataframe\">\n",
       "  <thead>\n",
       "    <tr style=\"text-align: right;\">\n",
       "      <th></th>\n",
       "      <th>Unnamed: 0</th>\n",
       "      <th>duration</th>\n",
       "      <th>start_time</th>\n",
       "      <th>end_time</th>\n",
       "      <th>start_station</th>\n",
       "      <th>end_station</th>\n",
       "      <th>start_lat</th>\n",
       "      <th>end_lat</th>\n",
       "      <th>start_lng</th>\n",
       "      <th>end_lng</th>\n",
       "      <th>user_type</th>\n",
       "      <th>birth_year</th>\n",
       "      <th>gender</th>\n",
       "    </tr>\n",
       "  </thead>\n",
       "  <tbody>\n",
       "    <tr>\n",
       "      <th>0</th>\n",
       "      <td>0</td>\n",
       "      <td>9</td>\n",
       "      <td>7/28/2011 10:12:00</td>\n",
       "      <td>7/28/2011 10:12:00</td>\n",
       "      <td>Mayor Thomas M. Menino - Government Center</td>\n",
       "      <td>Mayor Thomas M. Menino - Government Center</td>\n",
       "      <td>42.359677</td>\n",
       "      <td>42.359677</td>\n",
       "      <td>-71.059364</td>\n",
       "      <td>-71.059364</td>\n",
       "      <td>Member</td>\n",
       "      <td>1976.0</td>\n",
       "      <td>Male</td>\n",
       "    </tr>\n",
       "    <tr>\n",
       "      <th>1</th>\n",
       "      <td>1</td>\n",
       "      <td>220</td>\n",
       "      <td>7/28/2011 10:21:00</td>\n",
       "      <td>7/28/2011 10:25:00</td>\n",
       "      <td>Mayor Thomas M. Menino - Government Center</td>\n",
       "      <td>Mayor Thomas M. Menino - Government Center</td>\n",
       "      <td>42.359677</td>\n",
       "      <td>42.359677</td>\n",
       "      <td>-71.059364</td>\n",
       "      <td>-71.059364</td>\n",
       "      <td>Member</td>\n",
       "      <td>1966.0</td>\n",
       "      <td>Male</td>\n",
       "    </tr>\n",
       "    <tr>\n",
       "      <th>2</th>\n",
       "      <td>2</td>\n",
       "      <td>56</td>\n",
       "      <td>7/28/2011 10:33:00</td>\n",
       "      <td>7/28/2011 10:34:00</td>\n",
       "      <td>Mayor Thomas M. Menino - Government Center</td>\n",
       "      <td>Mayor Thomas M. Menino - Government Center</td>\n",
       "      <td>42.359677</td>\n",
       "      <td>42.359677</td>\n",
       "      <td>-71.059364</td>\n",
       "      <td>-71.059364</td>\n",
       "      <td>Member</td>\n",
       "      <td>1943.0</td>\n",
       "      <td>Male</td>\n",
       "    </tr>\n",
       "    <tr>\n",
       "      <th>3</th>\n",
       "      <td>3</td>\n",
       "      <td>64</td>\n",
       "      <td>7/28/2011 10:35:00</td>\n",
       "      <td>7/28/2011 10:36:00</td>\n",
       "      <td>Mayor Thomas M. Menino - Government Center</td>\n",
       "      <td>Mayor Thomas M. Menino - Government Center</td>\n",
       "      <td>42.359677</td>\n",
       "      <td>42.359677</td>\n",
       "      <td>-71.059364</td>\n",
       "      <td>-71.059364</td>\n",
       "      <td>Member</td>\n",
       "      <td>1981.0</td>\n",
       "      <td>Female</td>\n",
       "    </tr>\n",
       "    <tr>\n",
       "      <th>4</th>\n",
       "      <td>4</td>\n",
       "      <td>12</td>\n",
       "      <td>7/28/2011 10:37:00</td>\n",
       "      <td>7/28/2011 10:37:00</td>\n",
       "      <td>Mayor Thomas M. Menino - Government Center</td>\n",
       "      <td>Mayor Thomas M. Menino - Government Center</td>\n",
       "      <td>42.359677</td>\n",
       "      <td>42.359677</td>\n",
       "      <td>-71.059364</td>\n",
       "      <td>-71.059364</td>\n",
       "      <td>Member</td>\n",
       "      <td>1983.0</td>\n",
       "      <td>Female</td>\n",
       "    </tr>\n",
       "  </tbody>\n",
       "</table>\n",
       "</div>"
      ],
      "text/plain": [
       "   Unnamed: 0  duration          start_time            end_time  \\\n",
       "0           0         9  7/28/2011 10:12:00  7/28/2011 10:12:00   \n",
       "1           1       220  7/28/2011 10:21:00  7/28/2011 10:25:00   \n",
       "2           2        56  7/28/2011 10:33:00  7/28/2011 10:34:00   \n",
       "3           3        64  7/28/2011 10:35:00  7/28/2011 10:36:00   \n",
       "4           4        12  7/28/2011 10:37:00  7/28/2011 10:37:00   \n",
       "\n",
       "                                start_station  \\\n",
       "0  Mayor Thomas M. Menino - Government Center   \n",
       "1  Mayor Thomas M. Menino - Government Center   \n",
       "2  Mayor Thomas M. Menino - Government Center   \n",
       "3  Mayor Thomas M. Menino - Government Center   \n",
       "4  Mayor Thomas M. Menino - Government Center   \n",
       "\n",
       "                                  end_station  start_lat    end_lat  \\\n",
       "0  Mayor Thomas M. Menino - Government Center  42.359677  42.359677   \n",
       "1  Mayor Thomas M. Menino - Government Center  42.359677  42.359677   \n",
       "2  Mayor Thomas M. Menino - Government Center  42.359677  42.359677   \n",
       "3  Mayor Thomas M. Menino - Government Center  42.359677  42.359677   \n",
       "4  Mayor Thomas M. Menino - Government Center  42.359677  42.359677   \n",
       "\n",
       "   start_lng    end_lng user_type  birth_year  gender  \n",
       "0 -71.059364 -71.059364    Member      1976.0    Male  \n",
       "1 -71.059364 -71.059364    Member      1966.0    Male  \n",
       "2 -71.059364 -71.059364    Member      1943.0    Male  \n",
       "3 -71.059364 -71.059364    Member      1981.0  Female  \n",
       "4 -71.059364 -71.059364    Member      1983.0  Female  "
      ]
     },
     "execution_count": 15,
     "metadata": {},
     "output_type": "execute_result"
    }
   ],
   "source": [
    "boston_data.head()"
   ]
  },
  {
   "cell_type": "markdown",
   "metadata": {},
   "source": [
    "## Map of start station and end station"
   ]
  },
  {
   "cell_type": "code",
   "execution_count": 10,
   "metadata": {},
   "outputs": [],
   "source": [
    "start_station_name = nyc_data.start_station.values"
   ]
  },
  {
   "cell_type": "code",
   "execution_count": 11,
   "metadata": {
    "scrolled": true
   },
   "outputs": [],
   "source": [
    "start_stations = boston_data.groupby(['start_station', 'start_lat', 'start_lng']).count()"
   ]
  },
  {
   "cell_type": "code",
   "execution_count": 12,
   "metadata": {},
   "outputs": [],
   "source": [
    "start_station_count = start_stations.sort_values('duration', ascending=False)[['duration']].rename(index=str, columns={'duration':'count'}).reset_index('start_station').drop_duplicates('start_station')"
   ]
  },
  {
   "cell_type": "code",
   "execution_count": 13,
   "metadata": {},
   "outputs": [
    {
     "data": {
      "text/plain": [
       "start_lat          start_lng         \n",
       "42.352175          -71.055547                            South Station - 700 Atlantic Ave.\n",
       "42.349673          -71.077303                     Boston Public Library - 700 Boylston St.\n",
       "42.350851          -71.08988599999998                                 Beacon St / Mass Ave\n",
       "42.3581            -71.093198                                 MIT at Mass Ave / Amherst St\n",
       "42.347433          -71.076163                                 Back Bay / South End Station\n",
       "42.352096          -71.070378                                Boylston St. at Arlington St.\n",
       "42.349046          -71.09683100000002                                Kenmore Sq / Comm Ave\n",
       "42.35559600000001  -71.07278000000002          The Esplanade - Beacon St. at Arlington St.\n",
       "42.348717          -71.085954                                     Newbury St / Hereford St\n",
       "42.362811          -71.056067                                     Cross St. at Hanover St.\n",
       "42.357143          -71.050699                                   Rowes Wharf - Atlantic Ave\n",
       "42.363871          -71.050877                                  Lewis Wharf - Atlantic Ave.\n",
       "42.345959          -71.082578                                Prudential Center / Belvidere\n",
       "42.354979          -71.063348                                         Tremont St / West St\n",
       "42.35977000000001  -71.051601                         Aquarium Station - 200 Atlantic Ave.\n",
       "42.373268          -71.118579                          Harvard Square at Mass Ave/ Dunster\n",
       "42.343864          -71.085918                                      Christian Science Plaza\n",
       "42.361285          -71.06514                                      Cambridge St. at Joy St.\n",
       "42.356755          -71.05540699999997                                   Post Office Square\n",
       "42.36069000000001  -71.07088399999998        Charles Circle - Charles St. at Cambridge St.\n",
       "42.347265          -71.088088                                          Boylston / Mass Ave\n",
       "42.338623          -71.074182                                Washington St. at Rutland St.\n",
       "42.366231          -71.060868                                      TD Garden - Legends Way\n",
       "42.350989          -71.07364399999999                            Boylston St / Berkeley St\n",
       "42.363562          -71.10042             Lafayette Square at Mass Ave / Main St / Colum...\n",
       "42.343912          -71.102221                                              Landmark Centre\n",
       "42.344763          -71.09788                                    Yawkey Way at Boylston St.\n",
       "42.341332          -71.076847                                     Tremont St / W Newton St\n",
       "42.362429          -71.090188                      MIT Stata Center at Vassar St / Main St\n",
       "42.36507           -71.1031                          Central Square at Mass Ave / Essex St\n",
       "                                                               ...                        \n",
       "42.400877          -71.116772                                          Powder House Circle\n",
       "42.402763          -71.126908                               Teele Square at 239 Holland St\n",
       "42.35605200000001  -71.069849                                      Charles St at Beacon St\n",
       "42.400146          -71.112708                                                  Ball Square\n",
       "42.330716          -71.05704399999998       Andrew Station - Dorchester Ave at Humboldt Pl\n",
       "42.325941          -71.065928                                              South Bay Plaza\n",
       "42.356975          -71.145442                          New Balance - Guest St. at Life St.\n",
       "42.320494          -71.05112199999998                                  JFK / UMASS Station\n",
       "42.357247          -71.146452                                   New Balance - 38 Guest St.\n",
       "42.40449           -71.123413                               Packard Ave / Powderhouse Blvd\n",
       "42.39082           -71.10942              Somerville Hospital at Highland Ave / Crocker St\n",
       "42.311819          -71.03570500000002                   University of Massachusetts Boston\n",
       "42.358508          -71.052984                                          Milk St at India St\n",
       "42.335693          -71.045859                               West Broadway at Dorchester St\n",
       "42.325333          -71.075354                         Mt Pleasant Ave / Dudley Town Common\n",
       "42.320998          -71.110833                                    Hyde Square at Barbara St\n",
       "42.335741          -71.03877                      South Boston Library - 646 East Broadway\n",
       "42.345733          -71.10069399999998                   BIDMC - Brookline at Burlington St\n",
       "42.350413          -71.07655                     New Balance Store - Boylston at Dartmouth\n",
       "42.333689          -71.120526                  Brookline Town Hall / Library Washington St\n",
       "42.31309           -71.114175                   JP Centre - Centre Street at Myrtle Street\n",
       "42.310579          -71.107341                                                   Green St T\n",
       "42.309467          -71.115645                          JP Monument - South St at Centre St\n",
       "42.369182          -71.117152            Harvard  University River Houses at DeWolfe St...\n",
       "42.377022          -71.056605                                     Hayes Square at Vine St.\n",
       "42.394002          -71.120406                                       Summer St at Cutter St\n",
       "42.322913          -71.100164                                Jackson Square T at Centre St\n",
       "42.315692          -71.09863399999998                      Egleston Square at Columbus Ave\n",
       "42.320561          -71.06198                                  E. Cottage St at Columbia Rd\n",
       "42.317225          -71.065421                      Upham's Corner - Ramsey St at Dudley St\n",
       "Name: start_station, Length: 137, dtype: object"
      ]
     },
     "execution_count": 13,
     "metadata": {},
     "output_type": "execute_result"
    }
   ],
   "source": [
    "start_station_count['start_station']"
   ]
  },
  {
   "cell_type": "markdown",
   "metadata": {},
   "source": [
    "## Heat Map"
   ]
  },
  {
   "cell_type": "markdown",
   "metadata": {},
   "source": [
    "### New York City"
   ]
  },
  {
   "cell_type": "code",
   "execution_count": 14,
   "metadata": {},
   "outputs": [
    {
     "data": {
      "text/html": [
       "<div style=\"width:100%;\"><div style=\"position:relative;width:100%;height:0;padding-bottom:60%;\"><iframe src=\"data:text/html;charset=utf-8;base64,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\" style=\"position:absolute;width:100%;height:100%;left:0;top:0;border:none !important;\" allowfullscreen webkitallowfullscreen mozallowfullscreen></iframe></div></div>"
      ],
      "text/plain": [
       "<folium.folium.Map at 0x10714a7f0>"
      ]
     },
     "execution_count": 14,
     "metadata": {},
     "output_type": "execute_result"
    }
   ],
   "source": [
    "stops_heatmap = folium.Map(location=[40.735336, -73.998004], zoom_start=12)\n",
    "Heat_df = [[row[\"start_lat\"], row[\"start_lng\"]] for name, row in nyc_data.sample(100).iterrows()]\n",
    "HeatMap(Heat_df).add_to(stops_heatmap)\n",
    "stops_heatmap"
   ]
  },
  {
   "cell_type": "markdown",
   "metadata": {},
   "source": [
    "### Boston"
   ]
  },
  {
   "cell_type": "code",
   "execution_count": 17,
   "metadata": {},
   "outputs": [
    {
     "data": {
      "text/html": [
       "<div style=\"width:100%;\"><div style=\"position:relative;width:100%;height:0;padding-bottom:60%;\"><iframe src=\"data:text/html;charset=utf-8;base64,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\" style=\"position:absolute;width:100%;height:100%;left:0;top:0;border:none !important;\" allowfullscreen webkitallowfullscreen mozallowfullscreen></iframe></div></div>"
      ],
      "text/plain": [
       "<folium.folium.Map at 0x107181390>"
      ]
     },
     "execution_count": 17,
     "metadata": {},
     "output_type": "execute_result"
    }
   ],
   "source": [
    "stops_heatmap = folium.Map(location=[42.359677, -71.059364], zoom_start=12)\n",
    "Heat_df = [[row[\"start_lat\"], row[\"start_lng\"]] for name, row in boston_data.sample(100).iterrows()]\n",
    "HeatMap(Heat_df).add_to(stops_heatmap)\n",
    "stops_heatmap"
   ]
  },
  {
   "cell_type": "code",
   "execution_count": null,
   "metadata": {},
   "outputs": [],
   "source": [
    "stops_map = folium.Map(location=[42.359677, -71.059364], zoom_start=11)\n",
    "for name, row in boston_data.iloc[:90].iterrows():\n",
    "    folium.Marker(location = [row[\"start_lat\"], row[\"start_lng\"]], popup=row[\"start_station\"]).add_to(stops_map)\n",
    "stops_map"
   ]
  },
  {
   "cell_type": "code",
   "execution_count": null,
   "metadata": {},
   "outputs": [],
   "source": []
  }
 ],
 "metadata": {
  "kernelspec": {
   "display_name": "Python 3",
   "language": "python",
   "name": "python3"
  },
  "language_info": {
   "codemirror_mode": {
    "name": "ipython",
    "version": 3
   },
   "file_extension": ".py",
   "mimetype": "text/x-python",
   "name": "python",
   "nbconvert_exporter": "python",
   "pygments_lexer": "ipython3",
   "version": "3.6.4"
  }
 },
 "nbformat": 4,
 "nbformat_minor": 2
}
